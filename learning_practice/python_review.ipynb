{
  "cells": [
    {
      "cell_type": "code",
      "execution_count": 1,
      "metadata": {
        "colab": {
          "base_uri": "https://localhost:8080/"
        },
        "id": "OLNrmjdYg748",
        "outputId": "3fa88fdb-d7c2-42c5-8953-eb71e3e2b159"
      },
      "outputs": [
        {
          "name": "stdout",
          "output_type": "stream",
          "text": [
            "Hello Today is revision day \n",
            "    /|\n",
            "   / |\n",
            "  /  |\n",
            " /___|\n"
          ]
        }
      ],
      "source": [
        "print(\"Hello Today is revision day \")\n",
        "print(\"    /|\")\n",
        "print(\"   / |\")\n",
        "print(\"  /  |\")\n",
        "print(\" /___|\")"
      ]
    },
    {
      "cell_type": "markdown",
      "metadata": {
        "id": "igadX3BYvw97"
      },
      "source": [
        "Variable and data type"
      ]
    },
    {
      "cell_type": "code",
      "execution_count": null,
      "metadata": {
        "colab": {
          "base_uri": "https://localhost:8080/"
        },
        "id": "1ZuRisRh3QAn",
        "outputId": "439458f0-48e8-4734-80ab-816e707bb853"
      },
      "outputs": [
        {
          "name": "stdout",
          "output_type": "stream",
          "text": [
            "yero tokko nama maqaan isaa bro ,\n",
            "inni umriin is wagga 30 ture ,\n",
            "Inni maqaa isaa bro hin jallatu.\n"
          ]
        }
      ],
      "source": [
        "name = \"bro\"\n",
        "age = 30\n",
        "print( \"yero tokko nama maqaan isaa \" + name + \" ,\" )\n",
        "print(f\"inni umriin is wagga {age} ture ,\")\n",
        "print(\"Inni maqaa isaa \" + name + \" hin jallatu.\")"
      ]
    },
    {
      "cell_type": "markdown",
      "metadata": {
        "id": "wCyS79yr074g"
      },
      "source": [
        "Python using as calculator"
      ]
    },
    {
      "cell_type": "code",
      "execution_count": null,
      "metadata": {
        "colab": {
          "base_uri": "https://localhost:8080/"
        },
        "id": "2Mt7Il7M06E_",
        "outputId": "d4d9f157-faf5-4d61-9975-b78029c40185"
      },
      "outputs": [
        {
          "data": {
            "text/plain": [
              "5.0"
            ]
          },
          "execution_count": 11,
          "metadata": {},
          "output_type": "execute_result"
        }
      ],
      "source": [
        "2 + 2"
      ]
    },
    {
      "cell_type": "code",
      "execution_count": null,
      "metadata": {
        "colab": {
          "base_uri": "https://localhost:8080/"
        },
        "id": "NoXnoOl81TSN",
        "outputId": "7dab845c-eb83-4921-ae2a-b446a3fc6cf2"
      },
      "outputs": [
        {
          "data": {
            "text/plain": [
              "15"
            ]
          },
          "execution_count": 13,
          "metadata": {},
          "output_type": "execute_result"
        }
      ],
      "source": [
        "50 - 5*7\n"
      ]
    },
    {
      "cell_type": "code",
      "execution_count": null,
      "metadata": {
        "colab": {
          "base_uri": "https://localhost:8080/"
        },
        "id": "JzCQz0R81WIR",
        "outputId": "3dbdc2b1-4f36-488a-8f0c-20718d30a8bd"
      },
      "outputs": [
        {
          "data": {
            "text/plain": [
              "5.0"
            ]
          },
          "execution_count": 14,
          "metadata": {},
          "output_type": "execute_result"
        }
      ],
      "source": [
        "(50 - 5*6) / 4"
      ]
    },
    {
      "cell_type": "markdown",
      "metadata": {
        "id": "OMFPGKct1zbc"
      },
      "source": [
        "text"
      ]
    },
    {
      "cell_type": "code",
      "execution_count": null,
      "metadata": {
        "colab": {
          "base_uri": "https://localhost:8080/",
          "height": 35
        },
        "id": "Vp40ncsI10fw",
        "outputId": "65f43a30-e2b5-417f-f80b-39e67f956859"
      },
      "outputs": [
        {
          "data": {
            "application/vnd.google.colaboratory.intrinsic+json": {
              "type": "string"
            },
            "text/plain": [
              "\" Doesn't\""
            ]
          },
          "execution_count": 16,
          "metadata": {},
          "output_type": "execute_result"
        }
      ],
      "source": [
        "\" Doesn\\'t\""
      ]
    },
    {
      "cell_type": "markdown",
      "metadata": {
        "id": "hsAnpJfn2hqf"
      },
      "source": [
        "In the Python shell, the string definition and output string can look different. The print() function produces a more readable output, by omitting the enclosing quotes and by printing escaped and special characters:"
      ]
    },
    {
      "cell_type": "code",
      "execution_count": null,
      "metadata": {
        "colab": {
          "base_uri": "https://localhost:8080/",
          "height": 35
        },
        "id": "3r08YpPW2inl",
        "outputId": "ab41d0ed-4653-4e63-8878-f4b06738da25"
      },
      "outputs": [
        {
          "data": {
            "application/vnd.google.colaboratory.intrinsic+json": {
              "type": "string"
            },
            "text/plain": [
              "'First line \\nSecond line'"
            ]
          },
          "execution_count": 17,
          "metadata": {},
          "output_type": "execute_result"
        }
      ],
      "source": [
        "s = \"First line \\nSecond line\"\n",
        "s"
      ]
    },
    {
      "cell_type": "code",
      "execution_count": null,
      "metadata": {
        "colab": {
          "base_uri": "https://localhost:8080/"
        },
        "id": "MiYZvX2V3BXm",
        "outputId": "f0d9d5f7-0e3f-4190-b8a2-f20c22c60486"
      },
      "outputs": [
        {
          "name": "stdout",
          "output_type": "stream",
          "text": [
            "First line \n",
            "Second line\n"
          ]
        }
      ],
      "source": [
        "print(s)"
      ]
    },
    {
      "cell_type": "markdown",
      "metadata": {
        "id": "M0LIAnZI3uNf"
      },
      "source": [
        "Strings can be concatenated (glued together) with the + operator, and repeated with *:\n"
      ]
    },
    {
      "cell_type": "code",
      "execution_count": null,
      "metadata": {
        "colab": {
          "base_uri": "https://localhost:8080/",
          "height": 35
        },
        "id": "aZfVoUNL3tSn",
        "outputId": "f1d3c977-15c5-4742-fa5b-a78e441e8963"
      },
      "outputs": [
        {
          "data": {
            "application/vnd.google.colaboratory.intrinsic+json": {
              "type": "string"
            },
            "text/plain": [
              "'try again and again and again and '"
            ]
          },
          "execution_count": 21,
          "metadata": {},
          "output_type": "execute_result"
        }
      ],
      "source": [
        "\"try \" + 3 * \"again and \""
      ]
    },
    {
      "cell_type": "markdown",
      "metadata": {
        "id": "puYKpEBL4xtG"
      },
      "source": [
        "Two or more string literals (i.e. the ones enclosed between quotes) next to each other are automatically concatenated."
      ]
    },
    {
      "cell_type": "code",
      "execution_count": null,
      "metadata": {
        "id": "OtpOxgwX40y4"
      },
      "outputs": [],
      "source": []
    },
    {
      "cell_type": "code",
      "execution_count": null,
      "metadata": {
        "colab": {
          "base_uri": "https://localhost:8080/",
          "height": 35
        },
        "id": "m6uJxafx42L1",
        "outputId": "086ff85c-8d7a-4499-f07f-aec43034b099"
      },
      "outputs": [
        {
          "data": {
            "application/vnd.google.colaboratory.intrinsic+json": {
              "type": "string"
            },
            "text/plain": [
              "'i want to solve a python problem  on leetcode and hacker rank '"
            ]
          },
          "execution_count": 22,
          "metadata": {},
          "output_type": "execute_result"
        }
      ],
      "source": [
        "\"i want to solve a python problem  \" \"on leetcode and hacker rank \""
      ]
    },
    {
      "cell_type": "markdown",
      "metadata": {
        "id": "O_Xds0-L5IUF"
      },
      "source": [
        "this only works two litrals not with variables or expression"
      ]
    },
    {
      "cell_type": "code",
      "execution_count": null,
      "metadata": {
        "colab": {
          "base_uri": "https://localhost:8080/",
          "height": 106
        },
        "id": "kmHWj6tW5Wo3",
        "outputId": "598d4cad-c575-42fb-8bb4-b887fe4a1f8b"
      },
      "outputs": [
        {
          "ename": "SyntaxError",
          "evalue": "invalid syntax (ipython-input-429191910.py, line 2)",
          "output_type": "error",
          "traceback": [
            "\u001b[0;36m  File \u001b[0;32m\"/tmp/ipython-input-429191910.py\"\u001b[0;36m, line \u001b[0;32m2\u001b[0m\n\u001b[0;31m    prefix \"code\"\u001b[0m\n\u001b[0m           ^\u001b[0m\n\u001b[0;31mSyntaxError\u001b[0m\u001b[0;31m:\u001b[0m invalid syntax\n"
          ]
        }
      ],
      "source": [
        "prefix = \"leet\"\n",
        "prefix \"code\""
      ]
    },
    {
      "cell_type": "markdown",
      "metadata": {
        "id": "i4QnZ9lv6L9G"
      },
      "source": [
        "if we want to concatnate variables or  a variable and literals, we use +:"
      ]
    },
    {
      "cell_type": "code",
      "execution_count": null,
      "metadata": {
        "colab": {
          "base_uri": "https://localhost:8080/",
          "height": 35
        },
        "id": "8vks8lWE5nQi",
        "outputId": "d9eee3e7-ac76-4f40-a277-7ef50504ab62"
      },
      "outputs": [
        {
          "data": {
            "application/vnd.google.colaboratory.intrinsic+json": {
              "type": "string"
            },
            "text/plain": [
              "'leetcode'"
            ]
          },
          "execution_count": 27,
          "metadata": {},
          "output_type": "execute_result"
        }
      ],
      "source": [
        "prefix = \"leet\"\n",
        "prefix + \"code\""
      ]
    },
    {
      "cell_type": "markdown",
      "metadata": {
        "id": "DBMaBrgS6nnY"
      },
      "source": [
        "string can be indexed , starting from 0 index to n - 1 len of string"
      ]
    },
    {
      "cell_type": "code",
      "execution_count": null,
      "metadata": {
        "id": "cF7Oyj8F6GCV"
      },
      "outputs": [],
      "source": [
        "word = \"leetcode is the best platform for solving a problem\""
      ]
    },
    {
      "cell_type": "code",
      "execution_count": null,
      "metadata": {
        "colab": {
          "base_uri": "https://localhost:8080/"
        },
        "id": "gP7rJkXN7GhD",
        "outputId": "bd27872f-4e79-4539-8064-2fdd2fab4c86"
      },
      "outputs": [
        {
          "name": "stdout",
          "output_type": "stream",
          "text": [
            "51\n"
          ]
        }
      ],
      "source": [
        "print(len(word))"
      ]
    },
    {
      "cell_type": "code",
      "execution_count": null,
      "metadata": {
        "colab": {
          "base_uri": "https://localhost:8080/",
          "height": 35
        },
        "id": "Ide3cXmk69jl",
        "outputId": "f6b8023b-5aae-4907-dcbc-0a2bda7f9cae"
      },
      "outputs": [
        {
          "data": {
            "application/vnd.google.colaboratory.intrinsic+json": {
              "type": "string"
            },
            "text/plain": [
              "'l'"
            ]
          },
          "execution_count": 45,
          "metadata": {},
          "output_type": "execute_result"
        }
      ],
      "source": [
        "word [0]"
      ]
    },
    {
      "cell_type": "code",
      "execution_count": null,
      "metadata": {
        "colab": {
          "base_uri": "https://localhost:8080/",
          "height": 35
        },
        "id": "Qg2aMzCx7C1c",
        "outputId": "58a8acf1-0631-4c75-8817-6cda0fb3a6c5"
      },
      "outputs": [
        {
          "data": {
            "application/vnd.google.colaboratory.intrinsic+json": {
              "type": "string"
            },
            "text/plain": [
              "'m'"
            ]
          },
          "execution_count": 47,
          "metadata": {},
          "output_type": "execute_result"
        }
      ],
      "source": [
        "word [-1]"
      ]
    },
    {
      "cell_type": "markdown",
      "metadata": {
        "id": "QUIiYgzE8Iis"
      },
      "source": [
        "In addition to indexing, slicing is also supported. While indexing is used to obtain individual characters, slicing allows you to obtain a substring:"
      ]
    },
    {
      "cell_type": "code",
      "execution_count": null,
      "metadata": {
        "colab": {
          "base_uri": "https://localhost:8080/",
          "height": 35
        },
        "id": "0LrCmr1b780X",
        "outputId": "bc734f1d-a48c-4ac5-b6fd-810726e3dc2a"
      },
      "outputs": [
        {
          "data": {
            "application/vnd.google.colaboratory.intrinsic+json": {
              "type": "string"
            },
            "text/plain": [
              "' platform '"
            ]
          },
          "execution_count": 48,
          "metadata": {},
          "output_type": "execute_result"
        }
      ],
      "source": [
        "word [20 : 30]"
      ]
    },
    {
      "cell_type": "markdown",
      "metadata": {
        "id": "uQkOvrO38o0s"
      },
      "source": [
        "Python strings cannot be changed — they are immutable. Therefore, assigning to an indexed position in the string results in an error:"
      ]
    },
    {
      "cell_type": "code",
      "execution_count": null,
      "metadata": {
        "colab": {
          "base_uri": "https://localhost:8080/",
          "height": 141
        },
        "id": "HGf7NRvZ8qbE",
        "outputId": "24e59f2a-0688-4987-9be7-c2dc6ba81905"
      },
      "outputs": [
        {
          "ename": "TypeError",
          "evalue": "'str' object does not support item assignment",
          "output_type": "error",
          "traceback": [
            "\u001b[0;31m---------------------------------------------------------------------------\u001b[0m",
            "\u001b[0;31mTypeError\u001b[0m                                 Traceback (most recent call last)",
            "\u001b[0;32m/tmp/ipython-input-1074075371.py\u001b[0m in \u001b[0;36m<cell line: 0>\u001b[0;34m()\u001b[0m\n\u001b[0;32m----> 1\u001b[0;31m \u001b[0mword\u001b[0m \u001b[0;34m[\u001b[0m\u001b[0;34m:\u001b[0m\u001b[0;36m5\u001b[0m\u001b[0;34m]\u001b[0m \u001b[0;34m=\u001b[0m \u001b[0;34m\"code\"\u001b[0m\u001b[0;34m\u001b[0m\u001b[0;34m\u001b[0m\u001b[0m\n\u001b[0m",
            "\u001b[0;31mTypeError\u001b[0m: 'str' object does not support item assignment"
          ]
        }
      ],
      "source": [
        "word [:5] = \"code\""
      ]
    },
    {
      "cell_type": "markdown",
      "metadata": {
        "id": "SAf5vW38JId-"
      },
      "source": [
        "acepting input from users"
      ]
    },
    {
      "cell_type": "code",
      "execution_count": null,
      "metadata": {
        "id": "NuKl2RuZJCK3"
      },
      "outputs": [],
      "source": []
    },
    {
      "cell_type": "code",
      "execution_count": null,
      "metadata": {
        "colab": {
          "base_uri": "https://localhost:8080/"
        },
        "id": "CtaSaqI3I1Xf",
        "outputId": "49a0594d-23a8-4420-b19d-6bcff449596f"
      },
      "outputs": [
        {
          "name": "stdout",
          "output_type": "stream",
          "text": [
            "enter your name: ajme\n",
            "my name is ajme\n"
          ]
        }
      ],
      "source": [
        "name = input(\"enter your name: \")\n",
        "print(\"my name is \" + name )"
      ]
    },
    {
      "cell_type": "markdown",
      "metadata": {
        "id": "sgJjtXM6JR2T"
      },
      "source": [
        "summation of two number accepting input from users"
      ]
    },
    {
      "cell_type": "code",
      "execution_count": null,
      "metadata": {
        "id": "QKCb8A00JZ1H"
      },
      "outputs": [],
      "source": [
        "num1 = int(input(\"enter first number = \"))\n",
        "num2 = int(input(\"enter second number = \"))\n",
        "sum = num1 + num2\n",
        "print(f\"the sum of {num1} and {num2} is: {sum}\")"
      ]
    },
    {
      "cell_type": "markdown",
      "metadata": {
        "id": "apPmxpy4ueGb"
      },
      "source": [
        "Fibonic"
      ]
    },
    {
      "cell_type": "code",
      "execution_count": null,
      "metadata": {
        "colab": {
          "base_uri": "https://localhost:8080/"
        },
        "id": "k6g4jQHPugij",
        "outputId": "2ba590f9-a8c3-45b6-a291-f6ac9e5adf62"
      },
      "outputs": [
        {
          "name": "stdout",
          "output_type": "stream",
          "text": [
            "0\n",
            "1\n",
            "1\n",
            "2\n",
            "3\n",
            "5\n",
            "8\n"
          ]
        }
      ],
      "source": [
        "a, b = 0, 1\n",
        "while a < 10:\n",
        "  print(a)\n",
        "  a, b = b, a + b"
      ]
    },
    {
      "cell_type": "markdown",
      "metadata": {
        "id": "1XDjj7wGrjun"
      },
      "source": [
        "# Lists"
      ]
    },
    {
      "cell_type": "code",
      "execution_count": null,
      "metadata": {
        "id": "VK09pIqLruDE"
      },
      "outputs": [],
      "source": []
    },
    {
      "cell_type": "code",
      "execution_count": null,
      "metadata": {
        "colab": {
          "base_uri": "https://localhost:8080/"
        },
        "id": "-JmKvvZVKTJ_",
        "outputId": "7bc5ac63-cc96-4d33-9a66-196de0de3efe"
      },
      "outputs": [
        {
          "name": "stdout",
          "output_type": "stream",
          "text": [
            "[4, 5]\n"
          ]
        }
      ],
      "source": [
        "from typing import List\n",
        "class Solution:\n",
        "    def getSneakyNumbers(self, nums: List[int]) -> List[int]:\n",
        "      two_m = []\n",
        "      for i in range(len(nums)):\n",
        "        for j in range(i+1,len(nums)):\n",
        "          if nums[i] == nums[j]:\n",
        "            two_m.append(nums[i])\n",
        "      return sorted(two_m)\n",
        "sol = Solution()\n",
        "nums = [7,1,5,4,3,4,6,0,9,5,8,2]\n",
        "print(sol.getSneakyNumbers(nums))\n"
      ]
    },
    {
      "cell_type": "code",
      "execution_count": null,
      "metadata": {
        "colab": {
          "base_uri": "https://localhost:8080/"
        },
        "id": "vxE18AmoFSy3",
        "outputId": "3444fa38-35b3-40a6-e6c0-da0f2f8c75f3"
      },
      "outputs": [
        {
          "name": "stdout",
          "output_type": "stream",
          "text": [
            "[4, 5]\n"
          ]
        }
      ],
      "source": [
        "from typing import List\n",
        "class Solution:\n",
        "    def getSneakyNumbers(self, nums: List[int]) -> List[int]:\n",
        "      seen_number = set()\n",
        "      duplicate = []\n",
        "      for num in nums:\n",
        "        if num in seen_number:\n",
        "          duplicate.append(num)\n",
        "          if len(duplicate) == 2:\n",
        "            return duplicate\n",
        "        else:\n",
        "          seen_number.add(num)\n",
        "      return duplicate\n",
        "sol = Solution()\n",
        "num1 = [7,1,5,4,3,4,6,0,9,5,8,2]\n",
        "print(sol.getSneakyNumbers(num1))\n"
      ]
    }
  ],
  "metadata": {
    "colab": {
      "provenance": []
    },
    "kernelspec": {
      "display_name": "base",
      "language": "python",
      "name": "python3"
    },
    "language_info": {
      "codemirror_mode": {
        "name": "ipython",
        "version": 3
      },
      "file_extension": ".py",
      "mimetype": "text/x-python",
      "name": "python",
      "nbconvert_exporter": "python",
      "pygments_lexer": "ipython3",
      "version": "3.12.7"
    }
  },
  "nbformat": 4,
  "nbformat_minor": 0
}
